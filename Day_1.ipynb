{
 "cells": [
  {
   "cell_type": "markdown",
   "metadata": {},
   "source": [
    "# ....python basics"
   ]
  },
  {
   "cell_type": "code",
   "execution_count": 1,
   "metadata": {},
   "outputs": [
    {
     "name": "stdout",
     "output_type": "stream",
     "text": [
      "10 divided by 3 is 3.3333333333333335\n"
     ]
    }
   ],
   "source": [
    "#Basics\n",
    "x = 10\n",
    "y = 3\n",
    "print(\"10 divided by 3 is\", x/y)"
   ]
  },
  {
   "cell_type": "markdown",
   "metadata": {},
   "source": [
    "# ..........Assigning Values to Variables"
   ]
  },
  {
   "cell_type": "code",
   "execution_count": 2,
   "metadata": {},
   "outputs": [
    {
     "name": "stdout",
     "output_type": "stream",
     "text": [
      "100\n",
      "1000.0\n",
      "John\n"
     ]
    }
   ],
   "source": [
    "counter = 100          # An integer assignment\n",
    "miles   = 1000.0       # A floating point\n",
    "name    = \"John\"       # A string\n",
    "\n",
    "print(counter)\n",
    "print(miles)\n",
    "print(name)"
   ]
  },
  {
   "cell_type": "markdown",
   "metadata": {},
   "source": [
    "# .................Operators"
   ]
  },
  {
   "cell_type": "markdown",
   "metadata": {},
   "source": [
    "# ....Arithmatic operators"
   ]
  },
  {
   "cell_type": "code",
   "execution_count": 3,
   "metadata": {},
   "outputs": [
    {
     "name": "stdout",
     "output_type": "stream",
     "text": [
      "31\n",
      "11\n",
      "210\n",
      "2.1\n",
      "1\n",
      "8\n"
     ]
    }
   ],
   "source": [
    "#Arithmetic Operators:\n",
    "a = 21\n",
    "b = 10\n",
    "c = 0\n",
    " \n",
    "#addition    \n",
    "c = a + b\n",
    "print ( c )\n",
    "\n",
    "#substraction\n",
    "c = a - b\n",
    "print ( c )\n",
    " \n",
    "#Multiplication    \n",
    "c = a * b\n",
    "print ( c )\n",
    " \n",
    "#Devision    \n",
    "c = a / b\n",
    "print ( c )\n",
    "\n",
    "\n",
    "c = a % b\n",
    "print ( c )\n",
    "a = 2\n",
    "b = 3\n",
    "c = a**b\n",
    "print ( c )"
   ]
  },
  {
   "cell_type": "markdown",
   "metadata": {},
   "source": [
    "# ....Comparison & Logical Operators"
   ]
  },
  {
   "cell_type": "code",
   "execution_count": 4,
   "metadata": {},
   "outputs": [
    {
     "data": {
      "text/plain": [
       "False"
      ]
     },
     "execution_count": 4,
     "metadata": {},
     "output_type": "execute_result"
    }
   ],
   "source": [
    "#Comparison & Logical Operators\n",
    "x = 100\n",
    "x > 80 and x <=95"
   ]
  },
  {
   "cell_type": "code",
   "execution_count": 5,
   "metadata": {},
   "outputs": [
    {
     "name": "stdout",
     "output_type": "stream",
     "text": [
      "a is not equal to b\n",
      "a is not equal to b\n",
      "a is not less than b\n",
      "a is greater than b\n",
      "a is either less than or equal to b\n",
      "a is neither greater than  nor equal to b\n"
     ]
    }
   ],
   "source": [
    "# Comparision operators\n",
    "a = 21\n",
    "b = 10\n",
    "c = 0\n",
    " \n",
    "if ( a == b ):\n",
    "   print (\"a is equal to b\")\n",
    "else:\n",
    "   print (\"a is not equal to b\")\n",
    " \n",
    "if ( a != b ):\n",
    "   print (\"a is not equal to b\")\n",
    "else:\n",
    "   print (\"a is equal to b\")\n",
    " \n",
    "if ( a < b ): print (\"a is less than b\")\n",
    "else: \n",
    "    print (\"a is not less than b\") \n",
    " \n",
    "if ( a > b ):\n",
    "   print (\"a is greater than b\")\n",
    "else:\n",
    "   print (\"a is not greater than b\")\n",
    " \n",
    "a = 5\n",
    "b = 20\n",
    "if ( a <= b ): print (\"a is either less than or equal to b\")\n",
    "else: \n",
    "    print (\"a is neither less than nor equal to b\") \n",
    " \n",
    "if ( a >= b ):\n",
    "   print (\"a is either greater than  or equal to b\")\n",
    "else:\n",
    "   print (\"a is neither greater than  nor equal to b\")"
   ]
  },
  {
   "cell_type": "markdown",
   "metadata": {},
   "source": [
    "# ....Assignment Operators:"
   ]
  },
  {
   "cell_type": "code",
   "execution_count": 6,
   "metadata": {},
   "outputs": [
    {
     "name": "stdout",
     "output_type": "stream",
     "text": [
      "31\n",
      "52\n",
      "1092\n",
      "52.0\n",
      "2\n",
      "2097152\n"
     ]
    }
   ],
   "source": [
    "#Assignment Operators:\n",
    "a = 21\n",
    "b = 10\n",
    "c = 0\n",
    " \n",
    "c = a + b\n",
    "print ( c )\n",
    " \n",
    "c += a           # c = c + a   here c=31 ---> c=31+21 = 52\n",
    "print ( c )\n",
    " \n",
    "c *= a         # c = c * a    here c=52 ---> c=52*21 = 1092\n",
    "print ( c )\n",
    " \n",
    "c /= a       \n",
    "print ( c )\n",
    " \n",
    "c  = 2\n",
    "c %= a\n",
    "print ( c )\n",
    " \n",
    "c **= a        #c **= a ---> c = c ** a\n",
    "print ( c )"
   ]
  },
  {
   "cell_type": "code",
   "execution_count": 7,
   "metadata": {},
   "outputs": [
    {
     "name": "stdout",
     "output_type": "stream",
     "text": [
      "4 5\n"
     ]
    }
   ],
   "source": [
    "#multiple assignment \n",
    "a,b=4,5\n",
    "print(a,b)"
   ]
  },
  {
   "cell_type": "markdown",
   "metadata": {},
   "source": [
    "# ......................Python Data Structure"
   ]
  },
  {
   "cell_type": "markdown",
   "metadata": {},
   "source": [
    "# ...1  List"
   ]
  },
  {
   "cell_type": "code",
   "execution_count": 8,
   "metadata": {},
   "outputs": [
    {
     "data": {
      "text/plain": [
       "1"
      ]
     },
     "execution_count": 8,
     "metadata": {},
     "output_type": "execute_result"
    }
   ],
   "source": [
    "#...1  List\n",
    "x = [1, 2, 3, 4, 5]\n",
    "x[0]      #Indivisual elements of a list can be accessed by writing the index number in square bracket"
   ]
  },
  {
   "cell_type": "code",
   "execution_count": 9,
   "metadata": {},
   "outputs": [
    {
     "data": {
      "text/plain": [
       "5"
      ]
     },
     "execution_count": 9,
     "metadata": {},
     "output_type": "execute_result"
    }
   ],
   "source": [
    "x[-1]    #selects the last element from list.\n",
    "\n",
    "# x[:3] ...returns [1, 2, 3]"
   ]
  },
  {
   "cell_type": "code",
   "execution_count": 10,
   "metadata": {},
   "outputs": [
    {
     "data": {
      "text/plain": [
       "[1, 2, 3]"
      ]
     },
     "execution_count": 10,
     "metadata": {},
     "output_type": "execute_result"
    }
   ],
   "source": [
    "x[:3]"
   ]
  },
  {
   "cell_type": "code",
   "execution_count": 11,
   "metadata": {},
   "outputs": [
    {
     "data": {
      "text/plain": [
       "[1, 2, 56, 4, 5]"
      ]
     },
     "execution_count": 11,
     "metadata": {},
     "output_type": "execute_result"
    }
   ],
   "source": [
    "#adding new value into list\n",
    "x[2]=56\n",
    "x\n",
    "# x+[4,5]   #Add two items\n"
   ]
  },
  {
   "cell_type": "code",
   "execution_count": 12,
   "metadata": {},
   "outputs": [
    {
     "name": "stdout",
     "output_type": "stream",
     "text": [
      "[5 7 9]\n"
     ]
    }
   ],
   "source": [
    "#Sum of values of two list\n",
    "X = [1, 2, 3]\n",
    "Y = [4, 5, 6]\n",
    "import numpy as np\n",
    "Z = np.add(X, Y)\n",
    "print(Z)               #Z = X + Y   add two lists ...returns [1, 2, 3, 4, 5, 6]"
   ]
  },
  {
   "cell_type": "code",
   "execution_count": 13,
   "metadata": {},
   "outputs": [
    {
     "name": "stdout",
     "output_type": "stream",
     "text": [
      "[6, 7, 8, 9, 10]\n"
     ]
    }
   ],
   "source": [
    "#Add 5 to each element\n",
    "x = [1, 2, 3, 4, 5]\n",
    "for i in range(len(x)):\n",
    "    x[i] = x[i] + 5\n",
    "print(x)"
   ]
  },
  {
   "cell_type": "code",
   "execution_count": 14,
   "metadata": {},
   "outputs": [
    {
     "name": "stdout",
     "output_type": "stream",
     "text": [
      "[1, 2, 3, 1, 2, 3, 1, 2, 3]\n"
     ]
    }
   ],
   "source": [
    "#repeat list n times\n",
    "X = [1, 2, 3]\n",
    "Z = X * 3\n",
    "print(Z)"
   ]
  },
  {
   "cell_type": "code",
   "execution_count": 15,
   "metadata": {},
   "outputs": [
    {
     "name": "stdout",
     "output_type": "stream",
     "text": [
      "[1, 2, 5]\n"
     ]
    }
   ],
   "source": [
    "#Modify / Replace a list item\n",
    "X = [1, 2, 3]\n",
    "X[2]=5\n",
    "print(X)"
   ]
  },
  {
   "cell_type": "code",
   "execution_count": 16,
   "metadata": {},
   "outputs": [
    {
     "name": "stdout",
     "output_type": "stream",
     "text": [
      "['AA', 'BB', 'CC', 'DD']\n"
     ]
    }
   ],
   "source": [
    "#Add / Remove a list item\n",
    "X = ['AA', 'BB', 'CC']\n",
    "X.append('DD')          #add item use append\n",
    "print(X)                #remove item use : X.remove('BB')        "
   ]
  },
  {
   "cell_type": "code",
   "execution_count": 17,
   "metadata": {},
   "outputs": [
    {
     "name": "stdout",
     "output_type": "stream",
     "text": [
      "[124, 225, 246, 259, 305]\n"
     ]
    }
   ],
   "source": [
    "#sort list\n",
    "k = [124, 225, 305, 246, 259]\n",
    "k.sort()\n",
    "print(k)"
   ]
  },
  {
   "cell_type": "markdown",
   "metadata": {},
   "source": [
    "# ...2 string"
   ]
  },
  {
   "cell_type": "markdown",
   "metadata": {},
   "source": [
    "a string can be simply defined by single(') double(\") and triple('\")"
   ]
  },
  {
   "cell_type": "code",
   "execution_count": 18,
   "metadata": {},
   "outputs": [
    {
     "name": "stdout",
     "output_type": "stream",
     "text": [
      "Hello Python3.6\n"
     ]
    }
   ],
   "source": [
    "#.....2 string\n",
    "mystring = \"Hello Python3.6\"\n",
    "print(mystring)"
   ]
  },
  {
   "cell_type": "code",
   "execution_count": 19,
   "metadata": {},
   "outputs": [
    {
     "name": "stdout",
     "output_type": "stream",
     "text": [
      "15\n"
     ]
    }
   ],
   "source": [
    "#length of string\n",
    "print(len(mystring))"
   ]
  },
  {
   "cell_type": "code",
   "execution_count": 20,
   "metadata": {},
   "outputs": [
    {
     "data": {
      "text/plain": [
       "'H'"
      ]
     },
     "execution_count": 20,
     "metadata": {},
     "output_type": "execute_result"
    }
   ],
   "source": [
    "#How to extract Nth letter or word?\n",
    "mystring = 'Hi How are you?'\n",
    "mystring[0]"
   ]
  },
  {
   "cell_type": "code",
   "execution_count": 21,
   "metadata": {},
   "outputs": [
    {
     "data": {
      "text/plain": [
       "'Hi'"
      ]
     },
     "execution_count": 21,
     "metadata": {},
     "output_type": "execute_result"
    }
   ],
   "source": [
    "#To get first word\n",
    "mystring.split(' ')[0]"
   ]
  },
  {
   "cell_type": "code",
   "execution_count": 22,
   "metadata": {},
   "outputs": [
    {
     "name": "stdout",
     "output_type": "stream",
     "text": [
      "welcome to Python\n"
     ]
    }
   ],
   "source": [
    "#Manipulating Strings\n",
    "#String Concatenation\n",
    "str = \"welcome \" + \"to Python\"\n",
    "print (str)"
   ]
  },
  {
   "cell_type": "code",
   "execution_count": 23,
   "metadata": {},
   "outputs": [
    {
     "name": "stdout",
     "output_type": "stream",
     "text": [
      "LikeGeeksLikeGeeks\n"
     ]
    }
   ],
   "source": [
    "#String Multiplication\n",
    "str = \"LikeGeeks\" * 2\n",
    "print (str)"
   ]
  },
  {
   "cell_type": "code",
   "execution_count": 24,
   "metadata": {},
   "outputs": [
    {
     "name": "stdout",
     "output_type": "stream",
     "text": [
      "11\n"
     ]
    }
   ],
   "source": [
    "#Search for a Substring\n",
    "str = \"welcome to likegeeks website\"\n",
    "print(str.find(\"likegeeks\"))"
   ]
  },
  {
   "cell_type": "code",
   "execution_count": 25,
   "metadata": {},
   "outputs": [
    {
     "name": "stdout",
     "output_type": "stream",
     "text": [
      "fi\n",
      "second \n"
     ]
    }
   ],
   "source": [
    "#Get Substrings\n",
    "str = \"first second third\"\n",
    "print(str[:2])\n",
    "print(str[6:13])"
   ]
  },
  {
   "cell_type": "code",
   "execution_count": 26,
   "metadata": {},
   "outputs": [
    {
     "name": "stdout",
     "output_type": "stream",
     "text": [
      "That website is about programming\n"
     ]
    }
   ],
   "source": [
    "#Replace strings\n",
    "\n",
    "str = \"This website is about programming\"\n",
    "str2 = str.replace(\"This\", \"That\")\n",
    "print(str2)"
   ]
  },
  {
   "cell_type": "code",
   "execution_count": 27,
   "metadata": {},
   "outputs": [
    {
     "name": "stdout",
     "output_type": "stream",
     "text": [
      "This page is about programming I like this website\n"
     ]
    }
   ],
   "source": [
    "#If you have many occurrences and you want to replace the first occurrence only, you can specify that:\n",
    "\n",
    "str = \"This website is about programming I like this website\"\n",
    "str2 = str.replace(\"website\", \"page\",1)\n",
    "print(str2)"
   ]
  },
  {
   "cell_type": "code",
   "execution_count": 28,
   "metadata": {},
   "outputs": [
    {
     "name": "stdout",
     "output_type": "stream",
     "text": [
      "This website is about programming\n"
     ]
    }
   ],
   "source": [
    "#Strip Strings   -trim white spaces \n",
    "\n",
    "str = \"   This website is about programming    \"\n",
    "print(str.strip())"
   ]
  },
  {
   "cell_type": "code",
   "execution_count": 29,
   "metadata": {},
   "outputs": [
    {
     "name": "stdout",
     "output_type": "stream",
     "text": [
      "WELCOME TO LIKEGEEKS\n",
      "welcome to likegeeks\n"
     ]
    }
   ],
   "source": [
    "#Change Character Case\n",
    "str=\"Welcome to likegeeks\"\n",
    "print(str.upper())\n",
    "print(str.lower())"
   ]
  },
  {
   "cell_type": "code",
   "execution_count": 30,
   "metadata": {},
   "outputs": [
    {
     "name": "stdout",
     "output_type": "stream",
     "text": [
      "1020\n",
      "30\n"
     ]
    }
   ],
   "source": [
    "#Convert Strings to Numbers\n",
    "str=\"10\"\n",
    "str2=\"20\"\n",
    "print(str+str2)\n",
    "print(int(str)+int(str2))"
   ]
  },
  {
   "cell_type": "code",
   "execution_count": 31,
   "metadata": {},
   "outputs": [
    {
     "name": "stdout",
     "output_type": "stream",
     "text": [
      " \n",
      "w\n",
      "28\n"
     ]
    }
   ],
   "source": [
    "#Count Strings\n",
    "str=\"welcome to likegeeks website\"\n",
    "print(min(str))\n",
    "print(max(str))\n",
    "print(len(str))"
   ]
  },
  {
   "cell_type": "code",
   "execution_count": 32,
   "metadata": {},
   "outputs": [
    {
     "data": {
      "text/plain": [
       "b'welcome to likegeeks website'"
      ]
     },
     "execution_count": 32,
     "metadata": {},
     "output_type": "execute_result"
    }
   ],
   "source": [
    "#Encode Strings \n",
    "#If you are using Python 3, all strings are stored as Unicode strings by default\n",
    "\n",
    "str=\"welcome to likegeeks website\"\n",
    "str.encode('utf-8')"
   ]
  },
  {
   "cell_type": "code",
   "execution_count": null,
   "metadata": {
    "collapsed": true
   },
   "outputs": [],
   "source": []
  },
  {
   "cell_type": "markdown",
   "metadata": {},
   "source": [
    "# ...3 tuple"
   ]
  },
  {
   "cell_type": "code",
   "execution_count": 33,
   "metadata": {},
   "outputs": [
    {
     "data": {
      "text/plain": [
       "(123, 223, 323)"
      ]
     },
     "execution_count": 33,
     "metadata": {},
     "output_type": "execute_result"
    }
   ],
   "source": [
    "#.....3 tuple : contain mixed data...But cannot be changed or altered...use '( )'\n",
    "mytuple = (123,223,323)\n",
    "mytuple"
   ]
  },
  {
   "cell_type": "code",
   "execution_count": 34,
   "metadata": {},
   "outputs": [
    {
     "data": {
      "text/plain": [
       "323"
      ]
     },
     "execution_count": 34,
     "metadata": {},
     "output_type": "execute_result"
    }
   ],
   "source": [
    "# Second letter in the string\n",
    "mytuple[2]"
   ]
  },
  {
   "cell_type": "code",
   "execution_count": 35,
   "metadata": {},
   "outputs": [
    {
     "data": {
      "text/plain": [
       "(0, 1, 2, 3, 4, 5)"
      ]
     },
     "execution_count": 35,
     "metadata": {},
     "output_type": "execute_result"
    }
   ],
   "source": [
    "#Number of values separated by commas \n",
    "tuple=0, 1, 2, 3, 4, 5\n",
    "tuple"
   ]
  },
  {
   "cell_type": "markdown",
   "metadata": {},
   "source": [
    "# ...4 Dictionary"
   ]
  },
  {
   "cell_type": "code",
   "execution_count": 36,
   "metadata": {},
   "outputs": [
    {
     "data": {
      "text/plain": [
       "'team B'"
      ]
     },
     "execution_count": 36,
     "metadata": {},
     "output_type": "execute_result"
    }
   ],
   "source": [
    "#.....4 Dictionary\n",
    "teams = {'Dave' : 'team A',\n",
    "         'Tim' : 'team B',\n",
    "         'Babita' : 'team C'}\n",
    "teams['Tim']                        # delete an item: del teams['Ravi']  ....#add item: teams['Deep'] = 'team B'"
   ]
  },
  {
   "cell_type": "markdown",
   "metadata": {},
   "source": [
    "# ...5 Sets"
   ]
  },
  {
   "cell_type": "code",
   "execution_count": 37,
   "metadata": {},
   "outputs": [
    {
     "data": {
      "text/plain": [
       "True"
      ]
     },
     "execution_count": 37,
     "metadata": {},
     "output_type": "execute_result"
    }
   ],
   "source": [
    "#.....5 Sets\n",
    "X = set(['A', 'B', 'C'])\n",
    "'A' in X                    # add set: X.add('D') ...#remove: X.remove('C') ...\n",
    "                            #create copy: Y = X.copy() ...#common item in x and Y : Y & X"
   ]
  },
  {
   "cell_type": "code",
   "execution_count": 38,
   "metadata": {},
   "outputs": [
    {
     "name": "stdout",
     "output_type": "stream",
     "text": [
      "{1, 2, 3}\n"
     ]
    }
   ],
   "source": [
    "#operations on set\n",
    "A = {1, 2, 3, 4, 5}\n",
    "B = {4, 5, 6, 7, 8}\n",
    "print(A - B)"
   ]
  },
  {
   "cell_type": "code",
   "execution_count": 39,
   "metadata": {},
   "outputs": [
    {
     "name": "stdout",
     "output_type": "stream",
     "text": [
      "True False\n"
     ]
    }
   ],
   "source": [
    "#boolean\n",
    "a = True\n",
    "b = False \n",
    "print(a,b)"
   ]
  },
  {
   "cell_type": "markdown",
   "metadata": {},
   "source": [
    "# .......Conversion of float and integer "
   ]
  },
  {
   "cell_type": "code",
   "execution_count": 40,
   "metadata": {},
   "outputs": [
    {
     "name": "stdout",
     "output_type": "stream",
     "text": [
      "10.0\n"
     ]
    }
   ],
   "source": [
    "A = 10\n",
    "# Convert it into float type\n",
    "B = float(A)\n",
    "print(B)"
   ]
  },
  {
   "cell_type": "code",
   "execution_count": 41,
   "metadata": {},
   "outputs": [
    {
     "name": "stdout",
     "output_type": "stream",
     "text": [
      "10\n"
     ]
    }
   ],
   "source": [
    "A = 10.76\n",
    "# Convert it into integer type\n",
    "B = int(A)\n",
    "print(B)"
   ]
  },
  {
   "cell_type": "markdown",
   "metadata": {},
   "source": [
    "# ......Manipulating numbers"
   ]
  },
  {
   "cell_type": "code",
   "execution_count": 42,
   "metadata": {},
   "outputs": [
    {
     "name": "stdout",
     "output_type": "stream",
     "text": [
      "15\n"
     ]
    }
   ],
   "source": [
    "#Manipulating numbers\n",
    "#If you have float number you can round it, using int() function like this:\n",
    "\n",
    "a=15.5\n",
    "print(int(a))"
   ]
  },
  {
   "cell_type": "code",
   "execution_count": 43,
   "metadata": {},
   "outputs": [
    {
     "name": "stdout",
     "output_type": "stream",
     "text": [
      "15.57\n"
     ]
    }
   ],
   "source": [
    "#Round Numbers\n",
    "\n",
    "a=15.5652645\n",
    "print(round(a,2))"
   ]
  },
  {
   "cell_type": "markdown",
   "metadata": {},
   "source": [
    "# ....Generate Random Numbers"
   ]
  },
  {
   "cell_type": "code",
   "execution_count": 44,
   "metadata": {},
   "outputs": [
    {
     "name": "stdout",
     "output_type": "stream",
     "text": [
      "0.6844529379610752\n"
     ]
    }
   ],
   "source": [
    "#Generate Random Numbers\n",
    "import random\n",
    "print(random.random())        #The generated number is between 0.0 and 1.0."
   ]
  },
  {
   "cell_type": "code",
   "execution_count": 45,
   "metadata": {},
   "outputs": [
    {
     "name": "stdout",
     "output_type": "stream",
     "text": [
      "[3]\n"
     ]
    }
   ],
   "source": [
    "import random\n",
    "numbers=[1,2,3,4,5,6,7]\n",
    "print(random.choices(numbers))    #You can generate a random number from your choices like this:"
   ]
  },
  {
   "cell_type": "markdown",
   "metadata": {},
   "source": [
    "# .......Manipulating Dates and Times"
   ]
  },
  {
   "cell_type": "code",
   "execution_count": 46,
   "metadata": {},
   "outputs": [
    {
     "name": "stdout",
     "output_type": "stream",
     "text": [
      "2018-03-27 14:11:22.793928\n",
      "2018\n",
      "3\n",
      "27\n",
      "1\n",
      "14:11:22.793928\n"
     ]
    }
   ],
   "source": [
    "#Manipulating Dates and Times\n",
    "import datetime\n",
    " \n",
    "cur_date = datetime.datetime.now()\n",
    "print(cur_date)\n",
    "print(cur_date.year)\n",
    "print(cur_date.month)\n",
    "print(cur_date.day)\n",
    "print(cur_date.weekday())\n",
    "print(cur_date.time())"
   ]
  },
  {
   "cell_type": "code",
   "execution_count": null,
   "metadata": {
    "collapsed": true
   },
   "outputs": [],
   "source": []
  }
 ],
 "metadata": {
  "kernelspec": {
   "display_name": "Python 3",
   "language": "python",
   "name": "python3"
  },
  "language_info": {
   "codemirror_mode": {
    "name": "ipython",
    "version": 3
   },
   "file_extension": ".py",
   "mimetype": "text/x-python",
   "name": "python",
   "nbconvert_exporter": "python",
   "pygments_lexer": "ipython3",
   "version": "3.6.3"
  }
 },
 "nbformat": 4,
 "nbformat_minor": 2
}
