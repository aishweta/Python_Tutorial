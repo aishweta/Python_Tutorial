{
 "cells": [
  {
   "cell_type": "markdown",
   "metadata": {
    "collapsed": true
   },
   "source": [
    "# ..........Conditional Statements:\n",
    "\n",
    "\n",
    "Conditional statements are used to execute a statement or a group of statements when some condition is true. \n",
    "\n",
    "There are namely three conditional statements – If, Elif, Else.\n",
    "\n"
   ]
  },
  {
   "cell_type": "raw",
   "metadata": {},
   "source": [
    "Below is the syntax:\n",
    "if condition1:\n",
    "    statements\n",
    "\n",
    "elif condition2:\n",
    "    statements    \n",
    "else:\n",
    "    statements"
   ]
  },
  {
   "cell_type": "code",
   "execution_count": 1,
   "metadata": {},
   "outputs": [
    {
     "name": "stdout",
     "output_type": "stream",
     "text": [
      "X is less than Y\n"
     ]
    }
   ],
   "source": [
    "X = 10\n",
    "Y = 12\n",
    " \n",
    "if X < Y: print('X is less than Y')\n",
    "elif X > Y:\n",
    "    print('X is greater than Y')\n",
    "else:\n",
    "    print('X and Y are equal')"
   ]
  },
  {
   "cell_type": "markdown",
   "metadata": {
    "collapsed": true
   },
   "source": [
    "# ...........Loops:\n",
    "In general, statements are executed sequentially. \n",
    "The first statement in a function is executed first, followed by the second, and so on.\n",
    "\n",
    "A loop statement allows us to execute a statement or group of statements multiple times\n",
    "\n",
    "---First the control will check the condition. If it is true then the control will move inside the loop and execute the statements inside the loop. \n",
    "\n",
    "---Now, the control will again check the condition, if it is still true then again it will execute the statements inside the loop.\n",
    "This process will keep on repeating until the condition becomes false. \n",
    "\n",
    "---Once the condition becomes false the control will move out of loop."
   ]
  },
  {
   "cell_type": "markdown",
   "metadata": {
    "collapsed": true
   },
   "source": [
    "# 1) While Loop: \n",
    "\n",
    "Here, first the condition is checked and if it’s true, control will move inside the loop and execute the statements inside the loop until the condition becomes false.\n",
    "\n",
    "We use this loop when we are not sure how many times we need to execute a group of statements or you can say that when we are unsure about the number of iterations.\n",
    "\n"
   ]
  },
  {
   "cell_type": "code",
   "execution_count": 2,
   "metadata": {},
   "outputs": [
    {
     "name": "stdout",
     "output_type": "stream",
     "text": [
      "0\n",
      "1\n",
      "2\n",
      "3\n",
      "4\n",
      "Good bye!\n"
     ]
    }
   ],
   "source": [
    "#Consider the example:\n",
    "\n",
    "count = 0\n",
    "while (count < 5):\n",
    "   print ( count )\n",
    "   count = count + 1\n",
    " \n",
    "print (\"Good bye!\")\n"
   ]
  },
  {
   "cell_type": "markdown",
   "metadata": {},
   "source": [
    "# 2) For Loop:\n",
    "Like the While loop, the For loop also allows a code block to be repeated certain number of times. The difference is, in For loop we know the amount of iterations required unlike While loop, where iterations depends on the condition."
   ]
  },
  {
   "cell_type": "code",
   "execution_count": 3,
   "metadata": {},
   "outputs": [
    {
     "name": "stdout",
     "output_type": "stream",
     "text": [
      "Banana\n",
      "Apple\n",
      "Grapes\n"
     ]
    }
   ],
   "source": [
    "fruits = ['Banana', 'Apple',  'Grapes']\n",
    " \n",
    "for index in range(len(fruits)):\n",
    "   print (fruits[index])"
   ]
  },
  {
   "cell_type": "code",
   "execution_count": 4,
   "metadata": {},
   "outputs": [
    {
     "name": "stdout",
     "output_type": "stream",
     "text": [
      "equal to 40\n"
     ]
    }
   ],
   "source": [
    "k=35\n",
    "if k+5==40:\n",
    "    print('equal to 40')\n",
    "else:\n",
    "    print('not equal to')"
   ]
  },
  {
   "cell_type": "markdown",
   "metadata": {},
   "source": [
    "# 3) Nested Loops: \n",
    "It basically means a loop inside a loop. It can be a For loop inside a While loop and vice-versa. Even a For loop can be inside a For loop or a While loop inside a While loop."
   ]
  },
  {
   "cell_type": "code",
   "execution_count": 5,
   "metadata": {},
   "outputs": [
    {
     "name": "stdout",
     "output_type": "stream",
     "text": [
      "\n",
      "1\n",
      "22\n",
      "333\n",
      "4444\n"
     ]
    }
   ],
   "source": [
    "count = 1\n",
    "for i in range(5):\n",
    "    print (str(i) * i)\n",
    " \n",
    "    for j in range(0, i):\n",
    "        count = count +1"
   ]
  },
  {
   "cell_type": "markdown",
   "metadata": {},
   "source": [
    "# ..........Functions:\n",
    "Functions are a convenient way to divide your code into useful blocks, allowing us to order our code, make it more readable, reuse it and save some time. "
   ]
  },
  {
   "cell_type": "code",
   "execution_count": 6,
   "metadata": {},
   "outputs": [
    {
     "name": "stdout",
     "output_type": "stream",
     "text": [
      "30\n"
     ]
    },
    {
     "data": {
      "text/plain": [
       "40"
      ]
     },
     "execution_count": 6,
     "metadata": {},
     "output_type": "execute_result"
    }
   ],
   "source": [
    "def add (a, b):\n",
    "    return a + b\n",
    "c = add(10,20)\n",
    "print(c)\n",
    "\n",
    "d=add(15,25)\n",
    "d"
   ]
  },
  {
   "cell_type": "code",
   "execution_count": 7,
   "metadata": {
    "collapsed": true
   },
   "outputs": [],
   "source": [
    "def mean_fun(a,b,c,d):\n",
    "    result=(a+b+c+d)/4\n",
    "    return result"
   ]
  },
  {
   "cell_type": "code",
   "execution_count": 8,
   "metadata": {},
   "outputs": [
    {
     "data": {
      "text/plain": [
       "19"
      ]
     },
     "execution_count": 8,
     "metadata": {},
     "output_type": "execute_result"
    }
   ],
   "source": [
    "round(mean_fun(12,13,24,26))"
   ]
  },
  {
   "cell_type": "code",
   "execution_count": null,
   "metadata": {
    "collapsed": true
   },
   "outputs": [],
   "source": []
  }
 ],
 "metadata": {
  "kernelspec": {
   "display_name": "Python 3",
   "language": "python",
   "name": "python3"
  },
  "language_info": {
   "codemirror_mode": {
    "name": "ipython",
    "version": 3
   },
   "file_extension": ".py",
   "mimetype": "text/x-python",
   "name": "python",
   "nbconvert_exporter": "python",
   "pygments_lexer": "ipython3",
   "version": "3.6.3"
  }
 },
 "nbformat": 4,
 "nbformat_minor": 2
}
